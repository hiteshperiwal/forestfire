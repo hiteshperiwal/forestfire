{
 "cells": [
  {
   "cell_type": "code",
   "execution_count": 38,
   "metadata": {
    "id": "MIAbWNG6MUcL"
   },
   "outputs": [],
   "source": [
    "import numpy as np\n",
    "import pandas as pd\n",
    "import matplotlib.pyplot as plt\n",
    "import seaborn as sns\n",
    "from sklearn.model_selection import train_test_split\n",
    "from sklearn.ensemble import RandomForestRegressor\n",
    "from sklearn import metrics\n",
    "import pickle"
   ]
  },
  {
   "cell_type": "markdown",
   "metadata": {
    "id": "hwCCnKpVPKvb"
   },
   "source": [
    "Data collection and Processing"
   ]
  },
  {
   "cell_type": "code",
   "execution_count": 39,
   "metadata": {
    "id": "DArJtPk2NXsQ"
   },
   "outputs": [],
   "source": [
    "#loading csv data to pandas dataframe\n",
    "gold_data=pd.read_csv('gld_price_data.csv')"
   ]
  },
  {
   "cell_type": "code",
   "execution_count": 40,
   "metadata": {
    "colab": {
     "base_uri": "https://localhost:8080/",
     "height": 206
    },
    "id": "eUSNrwuoPhHV",
    "outputId": "5d427a6f-125f-44c7-dabf-cc6fd7eb4b5e"
   },
   "outputs": [
    {
     "data": {
      "text/html": [
       "<div>\n",
       "<style scoped>\n",
       "    .dataframe tbody tr th:only-of-type {\n",
       "        vertical-align: middle;\n",
       "    }\n",
       "\n",
       "    .dataframe tbody tr th {\n",
       "        vertical-align: top;\n",
       "    }\n",
       "\n",
       "    .dataframe thead th {\n",
       "        text-align: right;\n",
       "    }\n",
       "</style>\n",
       "<table border=\"1\" class=\"dataframe\">\n",
       "  <thead>\n",
       "    <tr style=\"text-align: right;\">\n",
       "      <th></th>\n",
       "      <th>Date</th>\n",
       "      <th>SPX</th>\n",
       "      <th>GLD</th>\n",
       "      <th>USO</th>\n",
       "      <th>SLV</th>\n",
       "      <th>EUR/USD</th>\n",
       "    </tr>\n",
       "  </thead>\n",
       "  <tbody>\n",
       "    <tr>\n",
       "      <th>0</th>\n",
       "      <td>1/2/2008</td>\n",
       "      <td>1447.160034</td>\n",
       "      <td>84.860001</td>\n",
       "      <td>78.470001</td>\n",
       "      <td>15.180</td>\n",
       "      <td>1.471692</td>\n",
       "    </tr>\n",
       "    <tr>\n",
       "      <th>1</th>\n",
       "      <td>1/3/2008</td>\n",
       "      <td>1447.160034</td>\n",
       "      <td>85.570000</td>\n",
       "      <td>78.370003</td>\n",
       "      <td>15.285</td>\n",
       "      <td>1.474491</td>\n",
       "    </tr>\n",
       "    <tr>\n",
       "      <th>2</th>\n",
       "      <td>1/4/2008</td>\n",
       "      <td>1411.630005</td>\n",
       "      <td>85.129997</td>\n",
       "      <td>77.309998</td>\n",
       "      <td>15.167</td>\n",
       "      <td>1.475492</td>\n",
       "    </tr>\n",
       "    <tr>\n",
       "      <th>3</th>\n",
       "      <td>1/7/2008</td>\n",
       "      <td>1416.180054</td>\n",
       "      <td>84.769997</td>\n",
       "      <td>75.500000</td>\n",
       "      <td>15.053</td>\n",
       "      <td>1.468299</td>\n",
       "    </tr>\n",
       "    <tr>\n",
       "      <th>4</th>\n",
       "      <td>1/8/2008</td>\n",
       "      <td>1390.189941</td>\n",
       "      <td>86.779999</td>\n",
       "      <td>76.059998</td>\n",
       "      <td>15.590</td>\n",
       "      <td>1.557099</td>\n",
       "    </tr>\n",
       "  </tbody>\n",
       "</table>\n",
       "</div>"
      ],
      "text/plain": [
       "       Date          SPX        GLD        USO     SLV   EUR/USD\n",
       "0  1/2/2008  1447.160034  84.860001  78.470001  15.180  1.471692\n",
       "1  1/3/2008  1447.160034  85.570000  78.370003  15.285  1.474491\n",
       "2  1/4/2008  1411.630005  85.129997  77.309998  15.167  1.475492\n",
       "3  1/7/2008  1416.180054  84.769997  75.500000  15.053  1.468299\n",
       "4  1/8/2008  1390.189941  86.779999  76.059998  15.590  1.557099"
      ]
     },
     "execution_count": 40,
     "metadata": {},
     "output_type": "execute_result"
    }
   ],
   "source": [
    "#print first 5 rows in the data frame\n",
    "gold_data.head()"
   ]
  },
  {
   "cell_type": "code",
   "execution_count": 41,
   "metadata": {
    "colab": {
     "base_uri": "https://localhost:8080/",
     "height": 206
    },
    "id": "NrywfHOBb6HD",
    "outputId": "a7f0501b-fef3-4095-bf5a-e3d5432f1e3a"
   },
   "outputs": [
    {
     "data": {
      "text/html": [
       "<div>\n",
       "<style scoped>\n",
       "    .dataframe tbody tr th:only-of-type {\n",
       "        vertical-align: middle;\n",
       "    }\n",
       "\n",
       "    .dataframe tbody tr th {\n",
       "        vertical-align: top;\n",
       "    }\n",
       "\n",
       "    .dataframe thead th {\n",
       "        text-align: right;\n",
       "    }\n",
       "</style>\n",
       "<table border=\"1\" class=\"dataframe\">\n",
       "  <thead>\n",
       "    <tr style=\"text-align: right;\">\n",
       "      <th></th>\n",
       "      <th>Date</th>\n",
       "      <th>SPX</th>\n",
       "      <th>GLD</th>\n",
       "      <th>USO</th>\n",
       "      <th>SLV</th>\n",
       "      <th>EUR/USD</th>\n",
       "    </tr>\n",
       "  </thead>\n",
       "  <tbody>\n",
       "    <tr>\n",
       "      <th>2285</th>\n",
       "      <td>5/8/2018</td>\n",
       "      <td>2671.919922</td>\n",
       "      <td>124.589996</td>\n",
       "      <td>14.0600</td>\n",
       "      <td>15.5100</td>\n",
       "      <td>1.186789</td>\n",
       "    </tr>\n",
       "    <tr>\n",
       "      <th>2286</th>\n",
       "      <td>5/9/2018</td>\n",
       "      <td>2697.790039</td>\n",
       "      <td>124.330002</td>\n",
       "      <td>14.3700</td>\n",
       "      <td>15.5300</td>\n",
       "      <td>1.184722</td>\n",
       "    </tr>\n",
       "    <tr>\n",
       "      <th>2287</th>\n",
       "      <td>5/10/2018</td>\n",
       "      <td>2723.070068</td>\n",
       "      <td>125.180000</td>\n",
       "      <td>14.4100</td>\n",
       "      <td>15.7400</td>\n",
       "      <td>1.191753</td>\n",
       "    </tr>\n",
       "    <tr>\n",
       "      <th>2288</th>\n",
       "      <td>5/14/2018</td>\n",
       "      <td>2730.129883</td>\n",
       "      <td>124.489998</td>\n",
       "      <td>14.3800</td>\n",
       "      <td>15.5600</td>\n",
       "      <td>1.193118</td>\n",
       "    </tr>\n",
       "    <tr>\n",
       "      <th>2289</th>\n",
       "      <td>5/16/2018</td>\n",
       "      <td>2725.780029</td>\n",
       "      <td>122.543800</td>\n",
       "      <td>14.4058</td>\n",
       "      <td>15.4542</td>\n",
       "      <td>1.182033</td>\n",
       "    </tr>\n",
       "  </tbody>\n",
       "</table>\n",
       "</div>"
      ],
      "text/plain": [
       "           Date          SPX         GLD      USO      SLV   EUR/USD\n",
       "2285   5/8/2018  2671.919922  124.589996  14.0600  15.5100  1.186789\n",
       "2286   5/9/2018  2697.790039  124.330002  14.3700  15.5300  1.184722\n",
       "2287  5/10/2018  2723.070068  125.180000  14.4100  15.7400  1.191753\n",
       "2288  5/14/2018  2730.129883  124.489998  14.3800  15.5600  1.193118\n",
       "2289  5/16/2018  2725.780029  122.543800  14.4058  15.4542  1.182033"
      ]
     },
     "execution_count": 41,
     "metadata": {},
     "output_type": "execute_result"
    }
   ],
   "source": [
    "# print last 5 rows of the dataframe\n",
    "gold_data.tail()"
   ]
  },
  {
   "cell_type": "code",
   "execution_count": 42,
   "metadata": {
    "colab": {
     "base_uri": "https://localhost:8080/"
    },
    "id": "vgnDjvpocdUp",
    "outputId": "d29a6cd5-5a1a-454e-b90d-7ba008e4ebea"
   },
   "outputs": [
    {
     "data": {
      "text/plain": [
       "(2290, 6)"
      ]
     },
     "execution_count": 42,
     "metadata": {},
     "output_type": "execute_result"
    }
   ],
   "source": [
    "# number of rows and columns\n",
    "gold_data.shape"
   ]
  },
  {
   "cell_type": "code",
   "execution_count": 43,
   "metadata": {
    "colab": {
     "base_uri": "https://localhost:8080/"
    },
    "id": "DXKBfARtQRXU",
    "outputId": "c19c893e-cdaa-42c8-d324-ad06e80d6752"
   },
   "outputs": [
    {
     "name": "stdout",
     "output_type": "stream",
     "text": [
      "<class 'pandas.core.frame.DataFrame'>\n",
      "RangeIndex: 2290 entries, 0 to 2289\n",
      "Data columns (total 6 columns):\n",
      " #   Column   Non-Null Count  Dtype  \n",
      "---  ------   --------------  -----  \n",
      " 0   Date     2290 non-null   object \n",
      " 1   SPX      2290 non-null   float64\n",
      " 2   GLD      2290 non-null   float64\n",
      " 3   USO      2290 non-null   float64\n",
      " 4   SLV      2290 non-null   float64\n",
      " 5   EUR/USD  2290 non-null   float64\n",
      "dtypes: float64(5), object(1)\n",
      "memory usage: 107.5+ KB\n"
     ]
    }
   ],
   "source": [
    "# getting some basic informations about the data\n",
    "gold_data.info()"
   ]
  },
  {
   "cell_type": "code",
   "execution_count": 44,
   "metadata": {
    "colab": {
     "base_uri": "https://localhost:8080/"
    },
    "id": "xd6nIvwVQb5d",
    "outputId": "91523b68-0255-49d3-addd-980aa79382ab"
   },
   "outputs": [
    {
     "data": {
      "text/plain": [
       "Date       0\n",
       "SPX        0\n",
       "GLD        0\n",
       "USO        0\n",
       "SLV        0\n",
       "EUR/USD    0\n",
       "dtype: int64"
      ]
     },
     "execution_count": 44,
     "metadata": {},
     "output_type": "execute_result"
    }
   ],
   "source": [
    "# checking the number of missing values\n",
    "gold_data.isnull().sum()"
   ]
  },
  {
   "cell_type": "code",
   "execution_count": 45,
   "metadata": {
    "colab": {
     "base_uri": "https://localhost:8080/",
     "height": 300
    },
    "id": "8XM-C6raQj72",
    "outputId": "1ea6d9e9-c62a-4cd0-8eff-6135b5efe87b"
   },
   "outputs": [
    {
     "data": {
      "text/html": [
       "<div>\n",
       "<style scoped>\n",
       "    .dataframe tbody tr th:only-of-type {\n",
       "        vertical-align: middle;\n",
       "    }\n",
       "\n",
       "    .dataframe tbody tr th {\n",
       "        vertical-align: top;\n",
       "    }\n",
       "\n",
       "    .dataframe thead th {\n",
       "        text-align: right;\n",
       "    }\n",
       "</style>\n",
       "<table border=\"1\" class=\"dataframe\">\n",
       "  <thead>\n",
       "    <tr style=\"text-align: right;\">\n",
       "      <th></th>\n",
       "      <th>SPX</th>\n",
       "      <th>GLD</th>\n",
       "      <th>USO</th>\n",
       "      <th>SLV</th>\n",
       "      <th>EUR/USD</th>\n",
       "    </tr>\n",
       "  </thead>\n",
       "  <tbody>\n",
       "    <tr>\n",
       "      <th>count</th>\n",
       "      <td>2290.000000</td>\n",
       "      <td>2290.000000</td>\n",
       "      <td>2290.000000</td>\n",
       "      <td>2290.000000</td>\n",
       "      <td>2290.000000</td>\n",
       "    </tr>\n",
       "    <tr>\n",
       "      <th>mean</th>\n",
       "      <td>1654.315776</td>\n",
       "      <td>122.732875</td>\n",
       "      <td>31.842221</td>\n",
       "      <td>20.084997</td>\n",
       "      <td>1.283653</td>\n",
       "    </tr>\n",
       "    <tr>\n",
       "      <th>std</th>\n",
       "      <td>519.111540</td>\n",
       "      <td>23.283346</td>\n",
       "      <td>19.523517</td>\n",
       "      <td>7.092566</td>\n",
       "      <td>0.131547</td>\n",
       "    </tr>\n",
       "    <tr>\n",
       "      <th>min</th>\n",
       "      <td>676.530029</td>\n",
       "      <td>70.000000</td>\n",
       "      <td>7.960000</td>\n",
       "      <td>8.850000</td>\n",
       "      <td>1.039047</td>\n",
       "    </tr>\n",
       "    <tr>\n",
       "      <th>25%</th>\n",
       "      <td>1239.874969</td>\n",
       "      <td>109.725000</td>\n",
       "      <td>14.380000</td>\n",
       "      <td>15.570000</td>\n",
       "      <td>1.171313</td>\n",
       "    </tr>\n",
       "    <tr>\n",
       "      <th>50%</th>\n",
       "      <td>1551.434998</td>\n",
       "      <td>120.580002</td>\n",
       "      <td>33.869999</td>\n",
       "      <td>17.268500</td>\n",
       "      <td>1.303297</td>\n",
       "    </tr>\n",
       "    <tr>\n",
       "      <th>75%</th>\n",
       "      <td>2073.010070</td>\n",
       "      <td>132.840004</td>\n",
       "      <td>37.827501</td>\n",
       "      <td>22.882500</td>\n",
       "      <td>1.369971</td>\n",
       "    </tr>\n",
       "    <tr>\n",
       "      <th>max</th>\n",
       "      <td>2872.870117</td>\n",
       "      <td>184.589996</td>\n",
       "      <td>117.480003</td>\n",
       "      <td>47.259998</td>\n",
       "      <td>1.598798</td>\n",
       "    </tr>\n",
       "  </tbody>\n",
       "</table>\n",
       "</div>"
      ],
      "text/plain": [
       "               SPX          GLD          USO          SLV      EUR/USD\n",
       "count  2290.000000  2290.000000  2290.000000  2290.000000  2290.000000\n",
       "mean   1654.315776   122.732875    31.842221    20.084997     1.283653\n",
       "std     519.111540    23.283346    19.523517     7.092566     0.131547\n",
       "min     676.530029    70.000000     7.960000     8.850000     1.039047\n",
       "25%    1239.874969   109.725000    14.380000    15.570000     1.171313\n",
       "50%    1551.434998   120.580002    33.869999    17.268500     1.303297\n",
       "75%    2073.010070   132.840004    37.827501    22.882500     1.369971\n",
       "max    2872.870117   184.589996   117.480003    47.259998     1.598798"
      ]
     },
     "execution_count": 45,
     "metadata": {},
     "output_type": "execute_result"
    }
   ],
   "source": [
    "# getting the statistical measures of the data\n",
    "gold_data.describe()"
   ]
  },
  {
   "cell_type": "markdown",
   "metadata": {
    "id": "Tw4ZoKLhQtP7"
   },
   "source": []
  },
  {
   "cell_type": "markdown",
   "metadata": {
    "id": "f9SUQ8hodW4b"
   },
   "source": [
    "Correlation:\n",
    "1. Positive Correlation\n",
    "2. Negative Correlation"
   ]
  },
  {
   "cell_type": "code",
   "execution_count": 46,
   "metadata": {
    "id": "lzKUlUG0Q2E9"
   },
   "outputs": [],
   "source": [
    "correlation = gold_data.corr()"
   ]
  },
  {
   "cell_type": "code",
   "execution_count": 47,
   "metadata": {
    "colab": {
     "base_uri": "https://localhost:8080/",
     "height": 675
    },
    "id": "oOqb9j0Ad-Zx",
    "outputId": "836bac24-5589-489a-a12d-7f39ac3b5bb2"
   },
   "outputs": [
    {
     "data": {
      "text/plain": [
       "<AxesSubplot:>"
      ]
     },
     "execution_count": 47,
     "metadata": {},
     "output_type": "execute_result"
    },
    {
     "data": {
      "image/png": "[encoded data removed]",
      "text/plain": [
       "<Figure size 576x576 with 2 Axes>"
      ]
     },
     "metadata": {
      "needs_background": "light"
     },
     "output_type": "display_data"
    }
   ],
   "source": [
    "# constructing a heatmap to understand the correlatiom\n",
    "plt.figure(figsize = (8,8))\n",
    "sns.heatmap(correlation, cbar=True, square=True, fmt='.1f',annot=True, annot_kws={'size':8}, cmap='Oranges')"
   ]
  },
  {
   "cell_type": "code",
   "execution_count": 48,
   "metadata": {
    "colab": {
     "base_uri": "https://localhost:8080/"
    },
    "id": "a5yWYYUiSD-a",
    "outputId": "d4b186c4-047a-46a6-a5ca-30ba00fe2f08"
   },
   "outputs": [
    {
     "name": "stdout",
     "output_type": "stream",
     "text": [
      "SPX        0.049345\n",
      "GLD        1.000000\n",
      "USO       -0.186360\n",
      "SLV        0.866632\n",
      "EUR/USD   -0.024375\n",
      "Name: GLD, dtype: float64\n"
     ]
    }
   ],
   "source": [
    "# correlation values of GLD\n",
    "print(correlation['GLD'])"
   ]
  },
  {
   "cell_type": "code",
   "execution_count": 49,
   "metadata": {
    "colab": {
     "base_uri": "https://localhost:8080/",
     "height": 523
    },
    "id": "kxw64Zk_SfRG",
    "outputId": "493ed5b8-2951-448c-abcc-77f3d4489d8c"
   },
   "outputs": [
    {
     "data": {
      "text/plain": [
       "<seaborn.axisgrid.FacetGrid at 0x29bd68851c0>"
      ]
     },
     "execution_count": 49,
     "metadata": {},
     "output_type": "execute_result"
    },
    {
     "data": {
      "image/png": "[encoded data removed]",
      "text/plain": [
       "<Figure size 360x360 with 1 Axes>"
      ]
     },
     "metadata": {
      "needs_background": "light"
     },
     "output_type": "display_data"
    }
   ],
   "source": [
    "# checking the distribution of the GLD Price\n",
    "sns.displot(gold_data['GLD'],color='orange')"
   ]
  },
  {
   "cell_type": "markdown",
   "metadata": {
    "id": "FcM7zGfiQ1xt"
   },
   "source": []
  },
  {
   "cell_type": "markdown",
   "metadata": {
    "id": "7VeK58ZaTBWy"
   },
   "source": [
    "Splitting the Feature and Target"
   ]
  },
  {
   "cell_type": "code",
   "execution_count": 50,
   "metadata": {
    "id": "SJNxCR0vfWxe"
   },
   "outputs": [],
   "source": [
    "X = gold_data.drop(['Date','GLD'],axis=1)\n",
    "Y = gold_data['GLD']"
   ]
  },
  {
   "cell_type": "code",
   "execution_count": 51,
   "metadata": {
    "colab": {
     "base_uri": "https://localhost:8080/",
     "height": 424
    },
    "id": "tt7NOK3OTQTD",
    "outputId": "6fd106a1-84c9-4483-9ce4-bea934f70729"
   },
   "outputs": [
    {
     "data": {
      "text/html": [
       "<div>\n",
       "<style scoped>\n",
       "    .dataframe tbody tr th:only-of-type {\n",
       "        vertical-align: middle;\n",
       "    }\n",
       "\n",
       "    .dataframe tbody tr th {\n",
       "        vertical-align: top;\n",
       "    }\n",
       "\n",
       "    .dataframe thead th {\n",
       "        text-align: right;\n",
       "    }\n",
       "</style>\n",
       "<table border=\"1\" class=\"dataframe\">\n",
       "  <thead>\n",
       "    <tr style=\"text-align: right;\">\n",
       "      <th></th>\n",
       "      <th>SPX</th>\n",
       "      <th>USO</th>\n",
       "      <th>SLV</th>\n",
       "      <th>EUR/USD</th>\n",
       "    </tr>\n",
       "  </thead>\n",
       "  <tbody>\n",
       "    <tr>\n",
       "      <th>0</th>\n",
       "      <td>1447.160034</td>\n",
       "      <td>78.470001</td>\n",
       "      <td>15.1800</td>\n",
       "      <td>1.471692</td>\n",
       "    </tr>\n",
       "    <tr>\n",
       "      <th>1</th>\n",
       "      <td>1447.160034</td>\n",
       "      <td>78.370003</td>\n",
       "      <td>15.2850</td>\n",
       "      <td>1.474491</td>\n",
       "    </tr>\n",
       "    <tr>\n",
       "      <th>2</th>\n",
       "      <td>1411.630005</td>\n",
       "      <td>77.309998</td>\n",
       "      <td>15.1670</td>\n",
       "      <td>1.475492</td>\n",
       "    </tr>\n",
       "    <tr>\n",
       "      <th>3</th>\n",
       "      <td>1416.180054</td>\n",
       "      <td>75.500000</td>\n",
       "      <td>15.0530</td>\n",
       "      <td>1.468299</td>\n",
       "    </tr>\n",
       "    <tr>\n",
       "      <th>4</th>\n",
       "      <td>1390.189941</td>\n",
       "      <td>76.059998</td>\n",
       "      <td>15.5900</td>\n",
       "      <td>1.557099</td>\n",
       "    </tr>\n",
       "    <tr>\n",
       "      <th>...</th>\n",
       "      <td>...</td>\n",
       "      <td>...</td>\n",
       "      <td>...</td>\n",
       "      <td>...</td>\n",
       "    </tr>\n",
       "    <tr>\n",
       "      <th>2285</th>\n",
       "      <td>2671.919922</td>\n",
       "      <td>14.060000</td>\n",
       "      <td>15.5100</td>\n",
       "      <td>1.186789</td>\n",
       "    </tr>\n",
       "    <tr>\n",
       "      <th>2286</th>\n",
       "      <td>2697.790039</td>\n",
       "      <td>14.370000</td>\n",
       "      <td>15.5300</td>\n",
       "      <td>1.184722</td>\n",
       "    </tr>\n",
       "    <tr>\n",
       "      <th>2287</th>\n",
       "      <td>2723.070068</td>\n",
       "      <td>14.410000</td>\n",
       "      <td>15.7400</td>\n",
       "      <td>1.191753</td>\n",
       "    </tr>\n",
       "    <tr>\n",
       "      <th>2288</th>\n",
       "      <td>2730.129883</td>\n",
       "      <td>14.380000</td>\n",
       "      <td>15.5600</td>\n",
       "      <td>1.193118</td>\n",
       "    </tr>\n",
       "    <tr>\n",
       "      <th>2289</th>\n",
       "      <td>2725.780029</td>\n",
       "      <td>14.405800</td>\n",
       "      <td>15.4542</td>\n",
       "      <td>1.182033</td>\n",
       "    </tr>\n",
       "  </tbody>\n",
       "</table>\n",
       "<p>2290 rows × 4 columns</p>\n",
       "</div>"
      ],
      "text/plain": [
       "              SPX        USO      SLV   EUR/USD\n",
       "0     1447.160034  78.470001  15.1800  1.471692\n",
       "1     1447.160034  78.370003  15.2850  1.474491\n",
       "2     1411.630005  77.309998  15.1670  1.475492\n",
       "3     1416.180054  75.500000  15.0530  1.468299\n",
       "4     1390.189941  76.059998  15.5900  1.557099\n",
       "...           ...        ...      ...       ...\n",
       "2285  2671.919922  14.060000  15.5100  1.186789\n",
       "2286  2697.790039  14.370000  15.5300  1.184722\n",
       "2287  2723.070068  14.410000  15.7400  1.191753\n",
       "2288  2730.129883  14.380000  15.5600  1.193118\n",
       "2289  2725.780029  14.405800  15.4542  1.182033\n",
       "\n",
       "[2290 rows x 4 columns]"
      ]
     },
     "execution_count": 51,
     "metadata": {},
     "output_type": "execute_result"
    }
   ],
   "source": [
    "X"
   ]
  },
  {
   "cell_type": "code",
   "execution_count": 52,
   "metadata": {
    "colab": {
     "base_uri": "https://localhost:8080/"
    },
    "id": "4GgE6U38TTMW",
    "outputId": "fb8bb144-caf1-43c0-a863-e034acd0c21b"
   },
   "outputs": [
    {
     "data": {
      "text/plain": [
       "0        84.860001\n",
       "1        85.570000\n",
       "2        85.129997\n",
       "3        84.769997\n",
       "4        86.779999\n",
       "           ...    \n",
       "2285    124.589996\n",
       "2286    124.330002\n",
       "2287    125.180000\n",
       "2288    124.489998\n",
       "2289    122.543800\n",
       "Name: GLD, Length: 2290, dtype: float64"
      ]
     },
     "execution_count": 52,
     "metadata": {},
     "output_type": "execute_result"
    }
   ],
   "source": [
    "Y"
   ]
  },
  {
   "cell_type": "markdown",
   "metadata": {
    "id": "-ZG_s3DXTY2b"
   },
   "source": [
    "Splitting into Training data and Test data"
   ]
  },
  {
   "cell_type": "code",
   "execution_count": 53,
   "metadata": {
    "id": "Do8sz_k3TWvZ"
   },
   "outputs": [],
   "source": [
    "X_train, X_test, Y_train, Y_test = train_test_split(X, Y, test_size = 0.2, random_state=2)"
   ]
  },
  {
   "cell_type": "markdown",
   "metadata": {
    "id": "vKRGmtTsTpxG"
   },
   "source": [
    "Model training : Random Forest Regressor -Collection of decision Tress"
   ]
  },
  {
   "cell_type": "code",
   "execution_count": 54,
   "metadata": {
    "id": "aNTy866VThMI"
   },
   "outputs": [],
   "source": [
    "regressor = RandomForestRegressor(n_estimators=100)"
   ]
  },
  {
   "cell_type": "code",
   "execution_count": 55,
   "metadata": {
    "colab": {
     "base_uri": "https://localhost:8080/",
     "height": 75
    },
    "id": "DP2he4-PhMso",
    "outputId": "0fae4546-1497-46e2-9d4d-85a4a589c147"
   },
   "outputs": [
    {
     "data": {
      "text/plain": [
       "RandomForestRegressor()"
      ]
     },
     "execution_count": 55,
     "metadata": {},
     "output_type": "execute_result"
    }
   ],
   "source": [
    "# training the model\n",
    "regressor.fit(X_train,Y_train)"
   ]
  },
  {
   "cell_type": "markdown",
   "metadata": {
    "id": "Ajax1QgRUkfy"
   },
   "source": [
    "Model Evaluation"
   ]
  },
  {
   "cell_type": "code",
   "execution_count": 56,
   "metadata": {
    "id": "UisIqocTUEXn"
   },
   "outputs": [],
   "source": [
    "# prediction on Test Data\n",
    "test_data_prediction = regressor.predict(X_test)"
   ]
  },
  {
   "cell_type": "code",
   "execution_count": 57,
   "metadata": {
    "colab": {
     "base_uri": "https://localhost:8080/"
    },
    "id": "bcbzozKxUpXk",
    "outputId": "c431b874-852a-45d5-ce2c-7865b545d188"
   },
   "outputs": [
    {
     "data": {
      "text/plain": [
       "array([168.50929919,  81.75529978, 116.00630004, 127.65230095,\n",
       "       120.61010126, 154.84659739, 150.26319884, 126.13169992,\n",
       "       117.40539898, 125.77160132, 116.6737008 , 171.87250107,\n",
       "       141.55739848, 167.90859849, 115.18769988, 117.55910042,\n",
       "       138.19920303, 169.92720112, 159.76050231, 158.14839911,\n",
       "       155.21690058, 125.3142003 , 175.79370022, 156.93850301,\n",
       "       125.26040063,  93.62969987,  77.33470008, 120.85889989,\n",
       "       119.13169935, 167.3642998 ,  88.05740029, 125.22920008,\n",
       "        91.11240073, 117.72759986, 121.08389966, 136.71780081,\n",
       "       115.65610105, 115.1437007 , 147.57819879, 107.08030099,\n",
       "       104.28260226,  87.24679793, 126.48580044, 117.70709973,\n",
       "       153.78289903, 119.63280007, 108.28850001, 108.15849833,\n",
       "        93.21770066, 126.93809811,  74.92820008, 113.69869964,\n",
       "       121.34230011, 111.29349939, 118.81149901, 120.5747991 ,\n",
       "       159.17830027, 169.10410067, 147.08479671,  85.83929865,\n",
       "        94.63340029,  86.80479872,  90.5866003 , 118.85280078,\n",
       "       126.43730049, 127.60889988, 169.46269924, 122.32559925,\n",
       "       117.39519881,  98.67009991, 167.86830216, 143.04749838,\n",
       "       131.7059027 , 121.01920215, 121.23649944, 119.78620053,\n",
       "       114.4336015 , 118.14970056, 106.95770105, 127.91980099,\n",
       "       113.86709959, 107.23279985, 116.97290064, 119.73719917,\n",
       "        89.00400013,  88.40839896, 146.73990246, 127.12450048,\n",
       "       112.9944002 , 110.30989835, 108.17809896,  77.09189907,\n",
       "       169.48840221, 113.99569897, 121.60569902, 127.72390186,\n",
       "       155.01979797,  91.69049953, 136.29470089, 159.39590357,\n",
       "       125.18480067, 125.16340064, 130.56620225, 114.75140116,\n",
       "       119.78240003,  92.16829993, 110.42269859, 166.64959868,\n",
       "       157.15809907, 114.08389931, 106.62090094,  79.62709981,\n",
       "       113.19000047, 125.79940068, 107.18859933, 119.21720041,\n",
       "       155.90870291, 159.8682994 , 120.54779996, 134.05360267,\n",
       "       101.67119979, 117.60149804, 119.1672006 , 112.86090058,\n",
       "       102.84819901, 160.03269765,  99.25210042, 148.96769933,\n",
       "       125.55610127, 169.81709903, 125.91669841, 127.27399793,\n",
       "       127.48780211, 113.7765993 , 112.83040057, 123.39499909,\n",
       "       102.3067991 ,  89.16509976, 124.34879958, 101.31499955,\n",
       "       107.16249917, 113.46840072, 117.63070057,  99.24819961,\n",
       "       121.63790047, 163.2163993 ,  87.33119869, 106.52099988,\n",
       "       117.02730099, 127.74690111, 124.07410065,  80.7493989 ,\n",
       "       120.42060066, 157.84329854,  87.77679949, 110.38849958,\n",
       "       118.8850991 , 172.55569849, 103.01579896, 105.55220029,\n",
       "       122.67800024, 158.09359803,  87.33409845,  93.36070075,\n",
       "       112.51980042, 176.66200078, 114.17869951, 119.20820028,\n",
       "        94.56490091, 125.50770054, 166.09960079, 114.67260073,\n",
       "       116.64770133,  88.4564989 , 148.87670102, 120.45109988,\n",
       "        89.55410042, 112.78639977, 117.07040014, 118.81800097,\n",
       "        88.04099931,  94.06050017, 116.97110017, 118.86210156,\n",
       "       120.38730045, 126.58989831, 121.97499932, 150.07799985,\n",
       "       165.38440032, 118.49259964, 120.4538013 , 150.31860022,\n",
       "       118.55229942, 172.86519857, 105.77379922, 104.99040146,\n",
       "       149.87300138, 113.8963005 , 124.84600114, 147.61349996,\n",
       "       119.83700122, 115.14970045, 112.77409967, 113.41810199,\n",
       "       141.85650201, 117.86609754, 102.9083004 , 115.84160108,\n",
       "       103.81930174,  98.85560042, 117.27300083,  90.76860014,\n",
       "        91.47260026, 153.7514994 , 102.75800004, 154.87830102,\n",
       "       114.36400163, 138.06140173,  90.16849832, 115.48439944,\n",
       "       114.56539984, 122.75030025, 121.76749985, 165.25960126,\n",
       "        92.93789941, 135.54210197, 121.37909889, 120.68130054,\n",
       "       104.46780001, 140.94580294, 122.05099933, 116.66000041,\n",
       "       113.64470112, 127.04009742, 122.47349944, 125.82139942,\n",
       "       121.21640029,  86.84509871, 132.45910158, 144.56760116,\n",
       "        92.76119945, 160.02909849, 159.53810369, 126.24699932,\n",
       "       165.32699965, 108.95119981, 109.72200089, 103.60659812,\n",
       "        94.35000049, 127.60420247, 107.02960059, 162.65199917,\n",
       "       121.60500039, 132.05000029, 130.59870209, 160.31129973,\n",
       "        90.20529832, 175.31590187, 127.12920007, 126.63049861,\n",
       "        86.22749928, 124.48179919, 150.45869776,  89.65020054,\n",
       "       106.82649984, 109.01269979,  84.97559875, 136.06630045,\n",
       "       154.98920184, 139.16960327,  73.83320036, 152.49450074,\n",
       "       126.16380015, 126.72210015, 127.51189881, 108.56789936,\n",
       "       156.6487005 , 114.51150084, 117.04460123, 124.94789917,\n",
       "       154.04470101, 121.34410004, 156.44909826,  92.97250067,\n",
       "       125.46900135, 124.90500016,  87.9758007 ,  92.27879922,\n",
       "       126.16979965, 128.33490343, 113.22930053, 117.67319745,\n",
       "       120.8645999 , 127.19359741, 119.58990128, 136.61300048,\n",
       "        93.83649929, 119.80050039, 113.33260112,  94.31659935,\n",
       "       108.79319983,  88.04569921, 109.00549954,  89.76719982,\n",
       "        92.4636002 , 131.60040372, 162.31350076,  89.39770018,\n",
       "       119.6374012 , 133.19870117, 123.88790043, 128.19470191,\n",
       "       102.01669853,  89.09509873, 131.98300055, 120.0736    ,\n",
       "       108.39940031, 167.83050079, 115.07490045,  86.64399845,\n",
       "       118.86810066,  91.07699985, 162.15400029, 116.63900043,\n",
       "       121.69200024, 160.13429765, 120.06669948, 112.82089959,\n",
       "       108.59339867, 126.92439969,  75.70080032, 103.04559981,\n",
       "       127.55950271, 121.69229914,  92.6822003 , 132.38670062,\n",
       "       118.52920121, 115.78649971, 154.64580243, 160.06270111,\n",
       "       109.90849997, 155.49209839, 119.36230103, 160.4077005 ,\n",
       "       118.54020042, 158.53559947, 115.09169906, 116.5922003 ,\n",
       "       147.97009928, 114.6790007 , 126.04179858, 165.36519887,\n",
       "       117.76430012, 125.33269889, 153.13770347, 153.4877023 ,\n",
       "       132.16800058, 114.72400041, 121.17320226, 124.84480048,\n",
       "        89.78090079, 123.40239982, 155.17280251, 111.70410026,\n",
       "       106.65659995, 161.66050174, 118.64679958, 165.77120037,\n",
       "       134.12160143, 114.8198998 , 152.92659816, 168.7738005 ,\n",
       "       115.08580005, 114.13530109, 159.15589851,  85.43199848,\n",
       "       127.1350008 , 127.82080047, 128.87090054, 124.37230079,\n",
       "       123.73150059,  90.53790078, 153.36569944,  97.16589983,\n",
       "       138.32069994,  89.20239941, 107.24609987, 114.98620035,\n",
       "       112.7309006 , 123.75709901,  91.37789874, 125.43940149,\n",
       "       162.29589858, 119.89439927, 165.37360048, 126.59589812,\n",
       "       112.28000012, 127.63359917,  95.02729918,  91.03839984,\n",
       "       103.10669913, 120.70220003,  83.48879947, 126.39230006,\n",
       "       160.75830394, 117.3583009 , 118.22939965, 119.58530023,\n",
       "       122.97169991, 119.99070127, 121.42200005, 118.47190055,\n",
       "       107.0288999 , 148.39319999, 126.24349845, 115.62250065,\n",
       "        73.72319976, 127.76040068, 154.07710092, 122.3290999 ,\n",
       "       125.58190067,  88.75340005, 103.21729894, 124.60800049,\n",
       "       120.39290061,  73.20370095, 151.90349963, 121.30780046,\n",
       "       104.65759973,  86.43679763, 115.04609901, 172.18939803,\n",
       "       119.9471002 , 159.98579813, 113.17319932, 121.71030042,\n",
       "       119.07750124,  96.03239992, 119.03529997, 125.91559992,\n",
       "       118.55339936,  96.08750106, 153.93900156, 122.1163005 ,\n",
       "       147.82250071, 159.54930195, 113.89730014, 122.58739925,\n",
       "       149.82859864, 127.0050004 , 165.61910054, 135.17660021,\n",
       "       119.95019956, 167.80559958, 108.15229924, 121.81909839,\n",
       "       140.12550097, 107.42619906])"
      ]
     },
     "execution_count": 57,
     "metadata": {},
     "output_type": "execute_result"
    }
   ],
   "source": [
    "test_data_prediction"
   ]
  },
  {
   "cell_type": "code",
   "execution_count": 58,
   "metadata": {
    "colab": {
     "base_uri": "https://localhost:8080/"
    },
    "id": "dQ0vCTbbUw2u",
    "outputId": "28ff63b8-839a-479d-cc3d-192f77b19c00"
   },
   "outputs": [
    {
     "name": "stdout",
     "output_type": "stream",
     "text": [
      "R squared errror: 0.9888518055122434\n"
     ]
    }
   ],
   "source": [
    "# R sqayre error\n",
    "error_score=metrics.r2_score(Y_test,test_data_prediction)\n",
    "print(\"R squared errror:\",error_score)"
   ]
  },
  {
   "cell_type": "markdown",
   "metadata": {
    "id": "fB0N3jlzVRFM"
   },
   "source": [
    "Comapre the Actual values and Predicted Values in a plot"
   ]
  },
  {
   "cell_type": "code",
   "execution_count": 59,
   "metadata": {
    "id": "yIi-bOhVVKsz"
   },
   "outputs": [],
   "source": [
    "Y_test = list(Y_test)"
   ]
  },
  {
   "cell_type": "code",
   "execution_count": 60,
   "metadata": {
    "colab": {
     "base_uri": "https://localhost:8080/",
     "height": 472
    },
    "id": "sMSVMVtFijxo",
    "outputId": "f1b8f177-4212-416d-edaa-d2cc90b73f3a"
   },
   "outputs": [
    {
     "data": {
      "image/png": "[encoded data removed]",
      "text/plain": [
       "<Figure size 432x288 with 1 Axes>"
      ]
     },
     "metadata": {
      "needs_background": "light"
     },
     "output_type": "display_data"
    }
   ],
   "source": [
    "plt.plot(Y_test, color='maroon', label = 'Actual Value')\n",
    "plt.plot(test_data_prediction, color='orange', label='Predicted Value')\n",
    "plt.title('Actual Price vs Predicted Price')\n",
    "plt.xlabel('Number of values')\n",
    "plt.ylabel('GLD Price')\n",
    "plt.legend()\n",
    "plt.show()"
   ]
  },
  {
   "cell_type": "code",
   "execution_count": 61,
   "metadata": {
    "id": "oDTgMQgMVmWx"
   },
   "outputs": [],
   "source": [
    "#PICKEL FILE\n",
    "pickle.dump(regressor,open('model.pkl','wb'))\n",
    "model=pickle.load(open('model.pkl','rb'))"
   ]
  },
  {
   "cell_type": "code",
   "execution_count": null,
   "metadata": {},
   "outputs": [],
   "source": []
  }
 ],
 "metadata": {
  "colab": {
   "provenance": []
  },
  "kernelspec": {
   "display_name": "Python 3 (ipykernel)",
   "language": "python",
   "name": "python3"
  },
  "language_info": {
   "codemirror_mode": {
    "name": "ipython",
    "version": 3
   },
   "file_extension": ".py",
   "mimetype": "text/x-python",
   "name": "python",
   "nbconvert_exporter": "python",
   "pygments_lexer": "ipython3",
   "version": "3.9.7"
  }
 },
 "nbformat": 4,
 "nbformat_minor": 1
}
